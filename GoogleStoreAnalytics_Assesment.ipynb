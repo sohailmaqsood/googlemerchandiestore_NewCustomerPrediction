{
  "nbformat": 4,
  "nbformat_minor": 0,
  "metadata": {
    "colab": {
      "name": "GoogleStoreAnalytics_Assesment",
      "provenance": [],
      "collapsed_sections": []
    },
    "kernelspec": {
      "name": "python3",
      "display_name": "Python 3"
    },
    "language_info": {
      "name": "python"
    }
  },
  "cells": [
    {
      "cell_type": "code",
      "metadata": {
        "id": "T7pmt3iy29qV"
      },
      "source": [
        "#importing libraries\n",
        "import pandas as pd\n",
        "import numpy as np\n",
        "\n",
        "#for handling POSIX time column\n",
        "from datetime import datetime as dt\n",
        "\n",
        "import warnings\n",
        "warnings.filterwarnings('ignore')\n",
        "\n",
        "#model\n",
        "from sklearn.tree import DecisionTreeClassifier\n",
        "\n",
        "#used for measuring performanc of model\n",
        "from sklearn.metrics import f1_score\n",
        "from sklearn.metrics import accuracy_score\n",
        "from sklearn.metrics import precision_score\n",
        "from sklearn.metrics import recall_score\n"
      ],
      "execution_count": 1,
      "outputs": []
    },
    {
      "cell_type": "code",
      "metadata": {
        "id": "2F7EjJSY7fRK"
      },
      "source": [
        "#lets load the data in dataframe\n",
        "train = pd.read_csv('/content/drive/MyDrive/Colab Notebooks/Merkle_Google Store Analytics/sample_user_data.csv')"
      ],
      "execution_count": 2,
      "outputs": []
    },
    {
      "cell_type": "code",
      "metadata": {
        "colab": {
          "base_uri": "https://localhost:8080/"
        },
        "id": "1Na3gDxS8QxK",
        "outputId": "cebcfd1b-d6fa-4050-93e3-05f7a2ec0580"
      },
      "source": [
        "train.info()"
      ],
      "execution_count": 3,
      "outputs": [
        {
          "output_type": "stream",
          "text": [
            "<class 'pandas.core.frame.DataFrame'>\n",
            "RangeIndex: 464439 entries, 0 to 464438\n",
            "Data columns (total 17 columns):\n",
            " #   Column                   Non-Null Count   Dtype  \n",
            "---  ------                   --------------   -----  \n",
            " 0   fullVisitorId            464439 non-null  object \n",
            " 1   VisitNumber              464439 non-null  int64  \n",
            " 2   Date                     464439 non-null  int64  \n",
            " 3   VisitStartTime           464439 non-null  int64  \n",
            " 4   bounces                  232178 non-null  float64\n",
            " 5   pageviews                464387 non-null  float64\n",
            " 6   timeOnSite               231612 non-null  float64\n",
            " 7   totalTransactionRevenue  6308 non-null    float64\n",
            " 8   transactions             6308 non-null    float64\n",
            " 9   source                   464439 non-null  object \n",
            " 10  medium                   464439 non-null  object \n",
            " 11  campaign                 464439 non-null  object \n",
            " 12  deviceCategory           464439 non-null  object \n",
            " 13  operatingSystem          464439 non-null  object \n",
            " 14  mobileDeviceModel        464439 non-null  object \n",
            " 15  city                     464439 non-null  object \n",
            " 16  ChannelGrouping          464439 non-null  object \n",
            "dtypes: float64(5), int64(3), object(9)\n",
            "memory usage: 60.2+ MB\n"
          ],
          "name": "stdout"
        }
      ]
    },
    {
      "cell_type": "code",
      "metadata": {
        "id": "8EbDXroj8XLL"
      },
      "source": [
        "#any customer having transaction greater than 0\n",
        "#can be considered having made purchase\n",
        "#we will use this to train model\n",
        "\n",
        "train['purchased'] = train.transactions.notnull().astype(int)"
      ],
      "execution_count": 4,
      "outputs": []
    },
    {
      "cell_type": "code",
      "metadata": {
        "id": "tdRyYBdBBvsY"
      },
      "source": [
        "#filling null values in bouces as 0, meaning session didn't bounced\n",
        "train['bounces'].fillna(0,inplace=True)"
      ],
      "execution_count": 5,
      "outputs": []
    },
    {
      "cell_type": "code",
      "metadata": {
        "id": "w9rfrIo5NEXF"
      },
      "source": [
        "#totaltransactionRevenue and transactions features are not of use since, we are predicting for new customers\n",
        "#not for already logged customer.Also Visitor ID is of no use for our model. So dropping these\n",
        "train.drop(['totalTransactionRevenue','transactions','fullVisitorId'],axis=1,inplace=True)"
      ],
      "execution_count": 6,
      "outputs": []
    },
    {
      "cell_type": "code",
      "metadata": {
        "id": "eiiQ_BOCki3s"
      },
      "source": [
        "#since we need to make prediction only for new customers, we will filter our dataset for customers having VisitNumber as 1\n",
        "train = train[train.VisitNumber == 1]\n",
        "train.drop(['VisitNumber'],axis=1,inplace=True)"
      ],
      "execution_count": 7,
      "outputs": []
    },
    {
      "cell_type": "code",
      "metadata": {
        "colab": {
          "base_uri": "https://localhost:8080/",
          "height": 332
        },
        "id": "uDtMfbnD1V2M",
        "outputId": "76815dff-f9a0-4f7e-a549-1433d39ac16c"
      },
      "source": [
        "display(train.purchased.value_counts(normalize=True).plot.pie(title='Class Distribution',legend=True))\n",
        "display(train.purchased.value_counts(normalize=True))"
      ],
      "execution_count": 8,
      "outputs": [
        {
          "output_type": "display_data",
          "data": {
            "text/plain": [
              "<matplotlib.axes._subplots.AxesSubplot at 0x7fb086b62b10>"
            ]
          },
          "metadata": {
            "tags": []
          }
        },
        {
          "output_type": "display_data",
          "data": {
            "text/plain": [
              "0    0.992997\n",
              "1    0.007003\n",
              "Name: purchased, dtype: float64"
            ]
          },
          "metadata": {
            "tags": []
          }
        },
        {
          "output_type": "display_data",
          "data": {
            "image/png": "[encoded data removed]",
            "text/plain": [
              "<Figure size 432x288 with 1 Axes>"
            ]
          },
          "metadata": {
            "tags": []
          }
        }
      ]
    },
    {
      "cell_type": "markdown",
      "metadata": {
        "id": "B7E9lSUYu8iA"
      },
      "source": [
        "Data is highly imbalance. Number of people who made purchase is very Low"
      ]
    },
    {
      "cell_type": "code",
      "metadata": {
        "id": "ZjXR8YFK5Pe0"
      },
      "source": [
        "#converting datetime from time \n",
        "train['DateTime'] = train.VisitStartTime.apply(lambda tim:dt.fromtimestamp(tim).strftime('%Y-%m-%d %H'))\n",
        "train.drop(['Date','VisitStartTime'],axis=1,inplace=True)\n",
        "\n",
        "#extracting date and time from new column\n",
        "train['Date'] = train.DateTime.str.slice(stop=9)\n",
        "train['time'] = train.DateTime.str.slice(start=11)\n",
        "train.drop(['DateTime'],axis=1,inplace=True)"
      ],
      "execution_count": 9,
      "outputs": []
    },
    {
      "cell_type": "code",
      "metadata": {
        "id": "cvd51Z7R_uSO"
      },
      "source": [
        "citycross = pd.crosstab(train['city'],train['purchased'])"
      ],
      "execution_count": 10,
      "outputs": []
    },
    {
      "cell_type": "code",
      "metadata": {
        "colab": {
          "base_uri": "https://localhost:8080/",
          "height": 450
        },
        "id": "3XqQ5tCRB0EL",
        "outputId": "47ae39f0-1c7e-429a-cc28-4d57ffceb363"
      },
      "source": [
        "citycross.sort_values(by=1,ascending=False)"
      ],
      "execution_count": 11,
      "outputs": [
        {
          "output_type": "execute_result",
          "data": {
            "text/html": [
              "<div>\n",
              "<style scoped>\n",
              "    .dataframe tbody tr th:only-of-type {\n",
              "        vertical-align: middle;\n",
              "    }\n",
              "\n",
              "    .dataframe tbody tr th {\n",
              "        vertical-align: top;\n",
              "    }\n",
              "\n",
              "    .dataframe thead th {\n",
              "        text-align: right;\n",
              "    }\n",
              "</style>\n",
              "<table border=\"1\" class=\"dataframe\">\n",
              "  <thead>\n",
              "    <tr style=\"text-align: right;\">\n",
              "      <th>purchased</th>\n",
              "      <th>0</th>\n",
              "      <th>1</th>\n",
              "    </tr>\n",
              "    <tr>\n",
              "      <th>city</th>\n",
              "      <th></th>\n",
              "      <th></th>\n",
              "    </tr>\n",
              "  </thead>\n",
              "  <tbody>\n",
              "    <tr>\n",
              "      <th>not available in demo dataset</th>\n",
              "      <td>215355</td>\n",
              "      <td>1126</td>\n",
              "    </tr>\n",
              "    <tr>\n",
              "      <th>New York</th>\n",
              "      <td>8835</td>\n",
              "      <td>269</td>\n",
              "    </tr>\n",
              "    <tr>\n",
              "      <th>Mountain View</th>\n",
              "      <td>10923</td>\n",
              "      <td>181</td>\n",
              "    </tr>\n",
              "    <tr>\n",
              "      <th>San Francisco</th>\n",
              "      <td>7036</td>\n",
              "      <td>157</td>\n",
              "    </tr>\n",
              "    <tr>\n",
              "      <th>Sunnyvale</th>\n",
              "      <td>4116</td>\n",
              "      <td>103</td>\n",
              "    </tr>\n",
              "    <tr>\n",
              "      <th>...</th>\n",
              "      <td>...</td>\n",
              "      <td>...</td>\n",
              "    </tr>\n",
              "    <tr>\n",
              "      <th>Guwahati</th>\n",
              "      <td>6</td>\n",
              "      <td>0</td>\n",
              "    </tr>\n",
              "    <tr>\n",
              "      <th>Gurgaon</th>\n",
              "      <td>207</td>\n",
              "      <td>0</td>\n",
              "    </tr>\n",
              "    <tr>\n",
              "      <th>Guatemala City</th>\n",
              "      <td>11</td>\n",
              "      <td>0</td>\n",
              "    </tr>\n",
              "    <tr>\n",
              "      <th>Groningen</th>\n",
              "      <td>4</td>\n",
              "      <td>0</td>\n",
              "    </tr>\n",
              "    <tr>\n",
              "      <th>London</th>\n",
              "      <td>5865</td>\n",
              "      <td>0</td>\n",
              "    </tr>\n",
              "  </tbody>\n",
              "</table>\n",
              "<p>436 rows × 2 columns</p>\n",
              "</div>"
            ],
            "text/plain": [
              "purchased                           0     1\n",
              "city                                       \n",
              "not available in demo dataset  215355  1126\n",
              "New York                         8835   269\n",
              "Mountain View                   10923   181\n",
              "San Francisco                    7036   157\n",
              "Sunnyvale                        4116   103\n",
              "...                               ...   ...\n",
              "Guwahati                            6     0\n",
              "Gurgaon                           207     0\n",
              "Guatemala City                     11     0\n",
              "Groningen                           4     0\n",
              "London                           5865     0\n",
              "\n",
              "[436 rows x 2 columns]"
            ]
          },
          "metadata": {
            "tags": []
          },
          "execution_count": 11
        }
      ]
    },
    {
      "cell_type": "code",
      "metadata": {
        "id": "p-yrJgX4CIgP"
      },
      "source": [
        "#there are two ways I think of using city column, either clubbing top cities as one entity in new columns and others as other\n",
        "#but because most of these values are missing and can't be imputed, we will drop this column"
      ],
      "execution_count": 12,
      "outputs": []
    },
    {
      "cell_type": "code",
      "metadata": {
        "id": "VWawSjDvDsru"
      },
      "source": [
        "train.drop(['city'],axis=1,inplace=True)"
      ],
      "execution_count": 13,
      "outputs": []
    },
    {
      "cell_type": "code",
      "metadata": {
        "id": "Mp6w2cUlDyZJ",
        "colab": {
          "base_uri": "https://localhost:8080/",
          "height": 142
        },
        "outputId": "c31d6215-5577-4f36-cabb-c899e9980d27"
      },
      "source": [
        "#relation between bounces and purchased\n",
        "#Assumption is whenever session bounces, there is no purchase made\n",
        "a = pd.crosstab(train.bounces,train.purchased)\n",
        "a"
      ],
      "execution_count": 14,
      "outputs": [
        {
          "output_type": "execute_result",
          "data": {
            "text/html": [
              "<div>\n",
              "<style scoped>\n",
              "    .dataframe tbody tr th:only-of-type {\n",
              "        vertical-align: middle;\n",
              "    }\n",
              "\n",
              "    .dataframe tbody tr th {\n",
              "        vertical-align: top;\n",
              "    }\n",
              "\n",
              "    .dataframe thead th {\n",
              "        text-align: right;\n",
              "    }\n",
              "</style>\n",
              "<table border=\"1\" class=\"dataframe\">\n",
              "  <thead>\n",
              "    <tr style=\"text-align: right;\">\n",
              "      <th>purchased</th>\n",
              "      <th>0</th>\n",
              "      <th>1</th>\n",
              "    </tr>\n",
              "    <tr>\n",
              "      <th>bounces</th>\n",
              "      <th></th>\n",
              "      <th></th>\n",
              "    </tr>\n",
              "  </thead>\n",
              "  <tbody>\n",
              "    <tr>\n",
              "      <th>0.0</th>\n",
              "      <td>167693</td>\n",
              "      <td>2474</td>\n",
              "    </tr>\n",
              "    <tr>\n",
              "      <th>1.0</th>\n",
              "      <td>183089</td>\n",
              "      <td>0</td>\n",
              "    </tr>\n",
              "  </tbody>\n",
              "</table>\n",
              "</div>"
            ],
            "text/plain": [
              "purchased       0     1\n",
              "bounces                \n",
              "0.0        167693  2474\n",
              "1.0        183089     0"
            ]
          },
          "metadata": {
            "tags": []
          },
          "execution_count": 14
        }
      ]
    },
    {
      "cell_type": "markdown",
      "metadata": {
        "id": "dh94Eq9EkM-c"
      },
      "source": [
        "As expected, any bounced session, doesn't have a purchase made"
      ]
    },
    {
      "cell_type": "code",
      "metadata": {
        "id": "XQUbuwB7kFJS"
      },
      "source": [
        "train.drop(['bounces'],axis=1,inplace=True)"
      ],
      "execution_count": 15,
      "outputs": []
    },
    {
      "cell_type": "code",
      "metadata": {
        "colab": {
          "base_uri": "https://localhost:8080/",
          "height": 450
        },
        "id": "rMh5kffskeb5",
        "outputId": "52464cac-d65c-4ab6-eeb1-c2b4733ead45"
      },
      "source": [
        "#lets check for source column\n",
        "src = pd.crosstab(train.source,train.purchased)\n",
        "src.sort_values(by=1,ascending=False)"
      ],
      "execution_count": 16,
      "outputs": [
        {
          "output_type": "execute_result",
          "data": {
            "text/html": [
              "<div>\n",
              "<style scoped>\n",
              "    .dataframe tbody tr th:only-of-type {\n",
              "        vertical-align: middle;\n",
              "    }\n",
              "\n",
              "    .dataframe tbody tr th {\n",
              "        vertical-align: top;\n",
              "    }\n",
              "\n",
              "    .dataframe thead th {\n",
              "        text-align: right;\n",
              "    }\n",
              "</style>\n",
              "<table border=\"1\" class=\"dataframe\">\n",
              "  <thead>\n",
              "    <tr style=\"text-align: right;\">\n",
              "      <th>purchased</th>\n",
              "      <th>0</th>\n",
              "      <th>1</th>\n",
              "    </tr>\n",
              "    <tr>\n",
              "      <th>source</th>\n",
              "      <th></th>\n",
              "      <th></th>\n",
              "    </tr>\n",
              "  </thead>\n",
              "  <tbody>\n",
              "    <tr>\n",
              "      <th>(direct)</th>\n",
              "      <td>131381</td>\n",
              "      <td>1645</td>\n",
              "    </tr>\n",
              "    <tr>\n",
              "      <th>google</th>\n",
              "      <td>140764</td>\n",
              "      <td>743</td>\n",
              "    </tr>\n",
              "    <tr>\n",
              "      <th>groups.google.com</th>\n",
              "      <td>414</td>\n",
              "      <td>15</td>\n",
              "    </tr>\n",
              "    <tr>\n",
              "      <th>dfa</th>\n",
              "      <td>401</td>\n",
              "      <td>14</td>\n",
              "    </tr>\n",
              "    <tr>\n",
              "      <th>bing</th>\n",
              "      <td>821</td>\n",
              "      <td>12</td>\n",
              "    </tr>\n",
              "    <tr>\n",
              "      <th>...</th>\n",
              "      <td>...</td>\n",
              "      <td>...</td>\n",
              "    </tr>\n",
              "    <tr>\n",
              "      <th>google.com.hk</th>\n",
              "      <td>2</td>\n",
              "      <td>0</td>\n",
              "    </tr>\n",
              "    <tr>\n",
              "      <th>google.com.mx</th>\n",
              "      <td>2</td>\n",
              "      <td>0</td>\n",
              "    </tr>\n",
              "    <tr>\n",
              "      <th>google.com.pe</th>\n",
              "      <td>1</td>\n",
              "      <td>0</td>\n",
              "    </tr>\n",
              "    <tr>\n",
              "      <th>google.com.ph</th>\n",
              "      <td>1</td>\n",
              "      <td>0</td>\n",
              "    </tr>\n",
              "    <tr>\n",
              "      <th>images.google.co.id</th>\n",
              "      <td>2</td>\n",
              "      <td>0</td>\n",
              "    </tr>\n",
              "  </tbody>\n",
              "</table>\n",
              "<p>207 rows × 2 columns</p>\n",
              "</div>"
            ],
            "text/plain": [
              "purchased                 0     1\n",
              "source                           \n",
              "(direct)             131381  1645\n",
              "google               140764   743\n",
              "groups.google.com       414    15\n",
              "dfa                     401    14\n",
              "bing                    821    12\n",
              "...                     ...   ...\n",
              "google.com.hk             2     0\n",
              "google.com.mx             2     0\n",
              "google.com.pe             1     0\n",
              "google.com.ph             1     0\n",
              "images.google.co.id       2     0\n",
              "\n",
              "[207 rows x 2 columns]"
            ]
          },
          "metadata": {
            "tags": []
          },
          "execution_count": 16
        }
      ]
    },
    {
      "cell_type": "code",
      "metadata": {
        "id": "DVO1JirpaQEs"
      },
      "source": [
        "#lets convert source column into direct and indirect (anything other than direct)\n",
        "train['source_direct'] = train.source.apply(lambda src:1 if src=='(direct)' else 0)"
      ],
      "execution_count": 17,
      "outputs": []
    },
    {
      "cell_type": "code",
      "metadata": {
        "id": "o9RkQM61aujn"
      },
      "source": [
        "train.drop(['source'],axis=1,inplace=True)"
      ],
      "execution_count": 18,
      "outputs": []
    },
    {
      "cell_type": "code",
      "metadata": {
        "colab": {
          "base_uri": "https://localhost:8080/",
          "height": 450
        },
        "id": "8A_AVqhRa1SF",
        "outputId": "f0fc5948-2e08-40a3-9973-90098f2725e7"
      },
      "source": [
        "#let check medium column\n",
        "display(train.medium.value_counts())\n",
        "\n",
        "mdm = pd.crosstab(train.medium,train.purchased)\n",
        "print('----------------------------------------------')\n",
        "display(mdm.sort_values(ascending=False,by=1))"
      ],
      "execution_count": 19,
      "outputs": [
        {
          "output_type": "display_data",
          "data": {
            "text/plain": [
              "organic      138396\n",
              "(none)       133024\n",
              "referral      68134\n",
              "affiliate      7269\n",
              "cpc            5700\n",
              "cpm             712\n",
              "(not set)        21\n",
              "Name: medium, dtype: int64"
            ]
          },
          "metadata": {
            "tags": []
          }
        },
        {
          "output_type": "stream",
          "text": [
            "----------------------------------------------\n"
          ],
          "name": "stdout"
        },
        {
          "output_type": "display_data",
          "data": {
            "text/html": [
              "<div>\n",
              "<style scoped>\n",
              "    .dataframe tbody tr th:only-of-type {\n",
              "        vertical-align: middle;\n",
              "    }\n",
              "\n",
              "    .dataframe tbody tr th {\n",
              "        vertical-align: top;\n",
              "    }\n",
              "\n",
              "    .dataframe thead th {\n",
              "        text-align: right;\n",
              "    }\n",
              "</style>\n",
              "<table border=\"1\" class=\"dataframe\">\n",
              "  <thead>\n",
              "    <tr style=\"text-align: right;\">\n",
              "      <th>purchased</th>\n",
              "      <th>0</th>\n",
              "      <th>1</th>\n",
              "    </tr>\n",
              "    <tr>\n",
              "      <th>medium</th>\n",
              "      <th></th>\n",
              "      <th></th>\n",
              "    </tr>\n",
              "  </thead>\n",
              "  <tbody>\n",
              "    <tr>\n",
              "      <th>(none)</th>\n",
              "      <td>131379</td>\n",
              "      <td>1645</td>\n",
              "    </tr>\n",
              "    <tr>\n",
              "      <th>organic</th>\n",
              "      <td>137717</td>\n",
              "      <td>679</td>\n",
              "    </tr>\n",
              "    <tr>\n",
              "      <th>cpc</th>\n",
              "      <td>5628</td>\n",
              "      <td>72</td>\n",
              "    </tr>\n",
              "    <tr>\n",
              "      <th>referral</th>\n",
              "      <td>68081</td>\n",
              "      <td>53</td>\n",
              "    </tr>\n",
              "    <tr>\n",
              "      <th>cpm</th>\n",
              "      <td>690</td>\n",
              "      <td>22</td>\n",
              "    </tr>\n",
              "    <tr>\n",
              "      <th>affiliate</th>\n",
              "      <td>7267</td>\n",
              "      <td>2</td>\n",
              "    </tr>\n",
              "    <tr>\n",
              "      <th>(not set)</th>\n",
              "      <td>20</td>\n",
              "      <td>1</td>\n",
              "    </tr>\n",
              "  </tbody>\n",
              "</table>\n",
              "</div>"
            ],
            "text/plain": [
              "purchased       0     1\n",
              "medium                 \n",
              "(none)     131379  1645\n",
              "organic    137717   679\n",
              "cpc          5628    72\n",
              "referral    68081    53\n",
              "cpm           690    22\n",
              "affiliate    7267     2\n",
              "(not set)      20     1"
            ]
          },
          "metadata": {
            "tags": []
          }
        }
      ]
    },
    {
      "cell_type": "markdown",
      "metadata": {
        "id": "_9BrO4Y5b5Sr"
      },
      "source": [
        "Medium has 21 values as not set. We will replace these with 'Organic', since it has highest count after 'none'"
      ]
    },
    {
      "cell_type": "code",
      "metadata": {
        "id": "4vwWxnZDb4Yb"
      },
      "source": [
        "train.medium.replace(to_replace='(not set)',value='organic',inplace=True)"
      ],
      "execution_count": 20,
      "outputs": []
    },
    {
      "cell_type": "code",
      "metadata": {
        "colab": {
          "base_uri": "https://localhost:8080/",
          "height": 297
        },
        "id": "-TjakN5ec4r6",
        "outputId": "f234e0b7-6622-4308-ea0e-5e7c0679ac41"
      },
      "source": [
        "#next is campaign\n",
        "camp = pd.crosstab(train.campaign,train.purchased)\n",
        "camp.sort_values(ascending=False,by=1)"
      ],
      "execution_count": 21,
      "outputs": [
        {
          "output_type": "execute_result",
          "data": {
            "text/html": [
              "<div>\n",
              "<style scoped>\n",
              "    .dataframe tbody tr th:only-of-type {\n",
              "        vertical-align: middle;\n",
              "    }\n",
              "\n",
              "    .dataframe tbody tr th {\n",
              "        vertical-align: top;\n",
              "    }\n",
              "\n",
              "    .dataframe thead th {\n",
              "        text-align: right;\n",
              "    }\n",
              "</style>\n",
              "<table border=\"1\" class=\"dataframe\">\n",
              "  <thead>\n",
              "    <tr style=\"text-align: right;\">\n",
              "      <th>purchased</th>\n",
              "      <th>0</th>\n",
              "      <th>1</th>\n",
              "    </tr>\n",
              "    <tr>\n",
              "      <th>campaign</th>\n",
              "      <th></th>\n",
              "      <th></th>\n",
              "    </tr>\n",
              "  </thead>\n",
              "  <tbody>\n",
              "    <tr>\n",
              "      <th>(not set)</th>\n",
              "      <td>338172</td>\n",
              "      <td>2400</td>\n",
              "    </tr>\n",
              "    <tr>\n",
              "      <th>AW - Dynamic Search Ads Whole Site</th>\n",
              "      <td>2020</td>\n",
              "      <td>37</td>\n",
              "    </tr>\n",
              "    <tr>\n",
              "      <th>AW - Accessories</th>\n",
              "      <td>3293</td>\n",
              "      <td>35</td>\n",
              "    </tr>\n",
              "    <tr>\n",
              "      <th>Data Share Promo</th>\n",
              "      <td>7267</td>\n",
              "      <td>2</td>\n",
              "    </tr>\n",
              "    <tr>\n",
              "      <th>AW - Apparel</th>\n",
              "      <td>26</td>\n",
              "      <td>0</td>\n",
              "    </tr>\n",
              "    <tr>\n",
              "      <th>AW - Electronics</th>\n",
              "      <td>3</td>\n",
              "      <td>0</td>\n",
              "    </tr>\n",
              "    <tr>\n",
              "      <th>Data Share</th>\n",
              "      <td>1</td>\n",
              "      <td>0</td>\n",
              "    </tr>\n",
              "  </tbody>\n",
              "</table>\n",
              "</div>"
            ],
            "text/plain": [
              "purchased                                0     1\n",
              "campaign                                        \n",
              "(not set)                           338172  2400\n",
              "AW - Dynamic Search Ads Whole Site    2020    37\n",
              "AW - Accessories                      3293    35\n",
              "Data Share Promo                      7267     2\n",
              "AW - Apparel                            26     0\n",
              "AW - Electronics                         3     0\n",
              "Data Share                               1     0"
            ]
          },
          "metadata": {
            "tags": []
          },
          "execution_count": 21
        }
      ]
    },
    {
      "cell_type": "markdown",
      "metadata": {
        "id": "zuVScoAOdngV"
      },
      "source": [
        "not set values are so many that these rows cannot be even deleted. Plus most of the purchase made were for not set values, hence it seems like this column does not have much effect on the model. Hence we will not use this column in our model"
      ]
    },
    {
      "cell_type": "code",
      "metadata": {
        "colab": {
          "base_uri": "https://localhost:8080/"
        },
        "id": "qzCt5b0qeKfh",
        "outputId": "93df4269-cc27-417e-e542-e84ba69b600d"
      },
      "source": [
        "train.deviceCategory.value_counts()"
      ],
      "execution_count": 22,
      "outputs": [
        {
          "output_type": "execute_result",
          "data": {
            "text/plain": [
              "desktop    231619\n",
              "mobile     106838\n",
              "tablet      14799\n",
              "Name: deviceCategory, dtype: int64"
            ]
          },
          "metadata": {
            "tags": []
          },
          "execution_count": 22
        }
      ]
    },
    {
      "cell_type": "markdown",
      "metadata": {
        "id": "Pt98N5-2eQFI"
      },
      "source": [
        "This column looks good. It does not have not set or missing values"
      ]
    },
    {
      "cell_type": "code",
      "metadata": {
        "colab": {
          "base_uri": "https://localhost:8080/"
        },
        "id": "0i-tacgeePW5",
        "outputId": "8f97dcad-9af7-4be7-8e5b-8c40fdb633fb"
      },
      "source": [
        "train.mobileDeviceModel.value_counts()"
      ],
      "execution_count": 23,
      "outputs": [
        {
          "output_type": "execute_result",
          "data": {
            "text/plain": [
              "not available in demo dataset    353256\n",
              "Name: mobileDeviceModel, dtype: int64"
            ]
          },
          "metadata": {
            "tags": []
          },
          "execution_count": 23
        }
      ]
    },
    {
      "cell_type": "markdown",
      "metadata": {
        "id": "HYwL57XSebLW"
      },
      "source": [
        "Not device information is availablle in dataset. hence we will drop this column while training the model"
      ]
    },
    {
      "cell_type": "code",
      "metadata": {
        "colab": {
          "base_uri": "https://localhost:8080/"
        },
        "id": "EabEhjzJeah2",
        "outputId": "9107bab8-f143-4524-dd5e-db442c3a0539"
      },
      "source": [
        "train.ChannelGrouping.value_counts()"
      ],
      "execution_count": 24,
      "outputs": [
        {
          "output_type": "execute_result",
          "data": {
            "text/plain": [
              "Organic Search    186337\n",
              "Direct             65867\n",
              "Social             54130\n",
              "Referral           29970\n",
              "Paid Search         8911\n",
              "Affiliates          7269\n",
              "Display              749\n",
              "(Other)               22\n",
              "Organic S              1\n",
              "Name: ChannelGrouping, dtype: int64"
            ]
          },
          "metadata": {
            "tags": []
          },
          "execution_count": 24
        }
      ]
    },
    {
      "cell_type": "markdown",
      "metadata": {
        "id": "jfSWNGHde_dy"
      },
      "source": [
        "This also looks good and can be encoded"
      ]
    },
    {
      "cell_type": "code",
      "metadata": {
        "colab": {
          "base_uri": "https://localhost:8080/"
        },
        "id": "X59e6dcze-9t",
        "outputId": "21c01b76-ad5c-49e2-95bf-669d36f0b57e"
      },
      "source": [
        "train.info()"
      ],
      "execution_count": 25,
      "outputs": [
        {
          "output_type": "stream",
          "text": [
            "<class 'pandas.core.frame.DataFrame'>\n",
            "Int64Index: 353256 entries, 0 to 464438\n",
            "Data columns (total 12 columns):\n",
            " #   Column             Non-Null Count   Dtype  \n",
            "---  ------             --------------   -----  \n",
            " 0   pageviews          353253 non-null  float64\n",
            " 1   timeOnSite         169875 non-null  float64\n",
            " 2   medium             353256 non-null  object \n",
            " 3   campaign           353256 non-null  object \n",
            " 4   deviceCategory     353256 non-null  object \n",
            " 5   operatingSystem    353256 non-null  object \n",
            " 6   mobileDeviceModel  353256 non-null  object \n",
            " 7   ChannelGrouping    353256 non-null  object \n",
            " 8   purchased          353256 non-null  int64  \n",
            " 9   Date               353256 non-null  object \n",
            " 10  time               353256 non-null  object \n",
            " 11  source_direct      353256 non-null  int64  \n",
            "dtypes: float64(2), int64(2), object(8)\n",
            "memory usage: 35.0+ MB\n"
          ],
          "name": "stdout"
        }
      ]
    },
    {
      "cell_type": "code",
      "metadata": {
        "id": "jEFQc29XfRaL"
      },
      "source": [
        "#lets divide time into morning,afternoon,evening,night \n",
        "def timoday(x):\n",
        "  x = int(x)\n",
        "  if (x >= 18 and x <= 23) or (x >= 00 and x < 6):\n",
        "    return 'Night'\n",
        "  elif x >= 6 and x < 12:\n",
        "    return 'Morning'\n",
        "  elif x >= 12 and x < 18:\n",
        "    return 'Noon-Eve'\n",
        "\n",
        "train['timeoday'] = train.time.apply(lambda a:timoday(a))\n",
        "train.drop(['time'],inplace=True,axis=1)"
      ],
      "execution_count": 26,
      "outputs": []
    },
    {
      "cell_type": "code",
      "metadata": {
        "colab": {
          "base_uri": "https://localhost:8080/",
          "height": 173
        },
        "id": "ec61qLfhqGMs",
        "outputId": "95c802ec-fc3c-473e-d533-4173b80cbd92"
      },
      "source": [
        "timecross = pd.crosstab(train.timeoday,train.purchased)\n",
        "timecross"
      ],
      "execution_count": 27,
      "outputs": [
        {
          "output_type": "execute_result",
          "data": {
            "text/html": [
              "<div>\n",
              "<style scoped>\n",
              "    .dataframe tbody tr th:only-of-type {\n",
              "        vertical-align: middle;\n",
              "    }\n",
              "\n",
              "    .dataframe tbody tr th {\n",
              "        vertical-align: top;\n",
              "    }\n",
              "\n",
              "    .dataframe thead th {\n",
              "        text-align: right;\n",
              "    }\n",
              "</style>\n",
              "<table border=\"1\" class=\"dataframe\">\n",
              "  <thead>\n",
              "    <tr style=\"text-align: right;\">\n",
              "      <th>purchased</th>\n",
              "      <th>0</th>\n",
              "      <th>1</th>\n",
              "    </tr>\n",
              "    <tr>\n",
              "      <th>timeoday</th>\n",
              "      <th></th>\n",
              "      <th></th>\n",
              "    </tr>\n",
              "  </thead>\n",
              "  <tbody>\n",
              "    <tr>\n",
              "      <th>Morning</th>\n",
              "      <td>72306</td>\n",
              "      <td>125</td>\n",
              "    </tr>\n",
              "    <tr>\n",
              "      <th>Night</th>\n",
              "      <td>173863</td>\n",
              "      <td>1650</td>\n",
              "    </tr>\n",
              "    <tr>\n",
              "      <th>Noon-Eve</th>\n",
              "      <td>104613</td>\n",
              "      <td>699</td>\n",
              "    </tr>\n",
              "  </tbody>\n",
              "</table>\n",
              "</div>"
            ],
            "text/plain": [
              "purchased       0     1\n",
              "timeoday               \n",
              "Morning     72306   125\n",
              "Night      173863  1650\n",
              "Noon-Eve   104613   699"
            ]
          },
          "metadata": {
            "tags": []
          },
          "execution_count": 27
        }
      ]
    },
    {
      "cell_type": "markdown",
      "metadata": {
        "id": "DDIlOPcJrbg4"
      },
      "source": [
        "Night time has highest number of purchase made"
      ]
    },
    {
      "cell_type": "code",
      "metadata": {
        "id": "2d8QJQGRsPJZ"
      },
      "source": [
        "#imputing the missing values in Time On Site column with Mean\n",
        "from sklearn.impute import SimpleImputer\n",
        "impt = SimpleImputer(missing_values=np.nan,strategy='mean')\n",
        "train.timeOnSite = impt.fit_transform(train[['timeOnSite']])\n",
        "train.pageviews = impt.fit_transform(train[['pageviews']])"
      ],
      "execution_count": 28,
      "outputs": []
    },
    {
      "cell_type": "code",
      "metadata": {
        "id": "AK3jenYmvBj1"
      },
      "source": [
        "train.drop(['campaign','mobileDeviceModel','Date'],axis=1,inplace=True)"
      ],
      "execution_count": 29,
      "outputs": []
    },
    {
      "cell_type": "code",
      "metadata": {
        "id": "2T5-lyFov59D"
      },
      "source": [
        "train = pd.get_dummies(train,drop_first=True)"
      ],
      "execution_count": 30,
      "outputs": []
    },
    {
      "cell_type": "code",
      "metadata": {
        "colab": {
          "base_uri": "https://localhost:8080/"
        },
        "id": "rPHIOtD_BKqZ",
        "outputId": "9b7eb1a6-feae-4603-a432-e68b9dead9fc"
      },
      "source": [
        "train.info()"
      ],
      "execution_count": 31,
      "outputs": [
        {
          "output_type": "stream",
          "text": [
            "<class 'pandas.core.frame.DataFrame'>\n",
            "Int64Index: 353256 entries, 0 to 464438\n",
            "Data columns (total 38 columns):\n",
            " #   Column                          Non-Null Count   Dtype  \n",
            "---  ------                          --------------   -----  \n",
            " 0   pageviews                       353256 non-null  float64\n",
            " 1   timeOnSite                      353256 non-null  float64\n",
            " 2   purchased                       353256 non-null  int64  \n",
            " 3   source_direct                   353256 non-null  int64  \n",
            " 4   medium_affiliate                353256 non-null  uint8  \n",
            " 5   medium_cpc                      353256 non-null  uint8  \n",
            " 6   medium_cpm                      353256 non-null  uint8  \n",
            " 7   medium_organic                  353256 non-null  uint8  \n",
            " 8   medium_referral                 353256 non-null  uint8  \n",
            " 9   deviceCategory_mobile           353256 non-null  uint8  \n",
            " 10  deviceCategory_tablet           353256 non-null  uint8  \n",
            " 11  operatingSystem_Android         353256 non-null  uint8  \n",
            " 12  operatingSystem_BlackBerry      353256 non-null  uint8  \n",
            " 13  operatingSystem_Chrome OS       353256 non-null  uint8  \n",
            " 14  operatingSystem_Firefox OS      353256 non-null  uint8  \n",
            " 15  operatingSystem_FreeBSD         353256 non-null  uint8  \n",
            " 16  operatingSystem_Linux           353256 non-null  uint8  \n",
            " 17  operatingSystem_Macintosh       353256 non-null  uint8  \n",
            " 18  operatingSystem_NTT DoCoMo      353256 non-null  uint8  \n",
            " 19  operatingSystem_Nintendo 3DS    353256 non-null  uint8  \n",
            " 20  operatingSystem_Nintendo Wii    353256 non-null  uint8  \n",
            " 21  operatingSystem_Nintendo WiiU   353256 non-null  uint8  \n",
            " 22  operatingSystem_OpenBSD         353256 non-null  uint8  \n",
            " 23  operatingSystem_Samsung         353256 non-null  uint8  \n",
            " 24  operatingSystem_Windows         353256 non-null  uint8  \n",
            " 25  operatingSystem_Windows Phone   353256 non-null  uint8  \n",
            " 26  operatingSystem_Xbox            353256 non-null  uint8  \n",
            " 27  operatingSystem_iOS             353256 non-null  uint8  \n",
            " 28  ChannelGrouping_Affiliates      353256 non-null  uint8  \n",
            " 29  ChannelGrouping_Direct          353256 non-null  uint8  \n",
            " 30  ChannelGrouping_Display         353256 non-null  uint8  \n",
            " 31  ChannelGrouping_Organic S       353256 non-null  uint8  \n",
            " 32  ChannelGrouping_Organic Search  353256 non-null  uint8  \n",
            " 33  ChannelGrouping_Paid Search     353256 non-null  uint8  \n",
            " 34  ChannelGrouping_Referral        353256 non-null  uint8  \n",
            " 35  ChannelGrouping_Social          353256 non-null  uint8  \n",
            " 36  timeoday_Night                  353256 non-null  uint8  \n",
            " 37  timeoday_Noon-Eve               353256 non-null  uint8  \n",
            "dtypes: float64(2), int64(2), uint8(34)\n",
            "memory usage: 24.9 MB\n"
          ],
          "name": "stdout"
        }
      ]
    },
    {
      "cell_type": "code",
      "metadata": {
        "id": "6JL_R2gYkhNq"
      },
      "source": [
        "from sklearn.model_selection import train_test_split\n",
        "y = train['purchased']\n",
        "x = train.drop(['purchased'],axis=1)\n",
        "x_train,x_val,y_train,y_val = train_test_split(x,y,test_size=0.3)"
      ],
      "execution_count": 32,
      "outputs": []
    },
    {
      "cell_type": "code",
      "metadata": {
        "colab": {
          "base_uri": "https://localhost:8080/"
        },
        "id": "SzLOf48bm9pk",
        "outputId": "5e2fcc2b-597b-4e81-c5d5-af8ebaaa98ca"
      },
      "source": [
        "#we will use Kfold validation to validate the model\n",
        "f1 = np.array([])\n",
        "acc = np.array([])\n",
        "prec = np.array([])\n",
        "recal = np.array([])\n",
        "\n",
        "from sklearn.model_selection import StratifiedKFold\n",
        "skf = StratifiedKFold(n_splits=5,random_state=42,shuffle=True)\n",
        "\n",
        "for train_index,test_index in skf.split(x,y):\n",
        "  x_train,x_test = x.iloc[train_index],x.iloc[test_index]\n",
        "  y_train,y_test = y.iloc[train_index],y.iloc[test_index]\n",
        "  model = DecisionTreeClassifier(random_state=42)\n",
        "  model.fit(x_train,y_train)\n",
        "  pred = model.predict(x_test)\n",
        "  #print('{} iteration for decision tree has \\n f1 score of {} \\n accuracy of {} \\n precision of {} \\n recall of {}'.format(i,f1_score(y_test,pred),accuracy_score(y_test,pred),precision_score(y_test,pred),recall_score(y_test,pred)))\n",
        "  f1 = np.append(f1,f1_score(y_test,pred))\n",
        "  acc = np.append(acc,accuracy_score(y_test,pred))\n",
        "  prec = np.append(prec,precision_score(y_test,pred))\n",
        "  recal = np.append(recal,recall_score(y_test,pred))\n",
        "  #print(f1_score(y_test,pred))\n",
        "print('Mean of  \\n F1 Score is {} \\n Accuracy Score is {} \\n Precision Score is {} \\n Recall Score is {}'.format(np.mean(f1),np.mean(acc),np.mean(prec),np.mean(recal)))"
      ],
      "execution_count": 33,
      "outputs": [
        {
          "output_type": "stream",
          "text": [
            "Mean of  \n",
            " F1 Score is 0.22354208058102804 \n",
            " Accuracy Score is 0.988792828493764 \n",
            " Precision Score is 0.21732126253774667 \n",
            " Recall Score is 0.2303856377540588\n"
          ],
          "name": "stdout"
        }
      ]
    },
    {
      "cell_type": "markdown",
      "metadata": {
        "id": "gPler4Wopy8w"
      },
      "source": [
        "Accuracy is very high but f1 score and other metrics are very low."
      ]
    },
    {
      "cell_type": "code",
      "metadata": {
        "id": "qVparQ1xWsfH"
      },
      "source": [
        "#lets try parameter tuning using Gridsearch\n",
        "parameters = {\"criterion\":[\"gini\",\"entropy\"],\n",
        "              \"splitter\":[\"best\",\"random\"],\n",
        "              \"class_weight\":[{1:50000,0:1},{1:100,0:1},{1:10000,0:1},{1:350782,0:2474}],\n",
        "              \"max_features\":['auto','log2','sqrt',None]}"
      ],
      "execution_count": 34,
      "outputs": []
    },
    {
      "cell_type": "code",
      "metadata": {
        "colab": {
          "base_uri": "https://localhost:8080/"
        },
        "id": "_Oh5WrNwbaFW",
        "outputId": "16893aa2-26a9-4437-a805-626fd2145329"
      },
      "source": [
        "from sklearn.model_selection import GridSearchCV\n",
        "tuning_model = GridSearchCV(model,param_grid=parameters,verbose=0,scoring='f1',cv=3)\n",
        "tuning_model.fit(x,y)\n",
        "\n",
        "#best hyperparameters\n",
        "tuning_model.best_params_"
      ],
      "execution_count": 35,
      "outputs": [
        {
          "output_type": "execute_result",
          "data": {
            "text/plain": [
              "{'class_weight': {0: 2474, 1: 350782},\n",
              " 'criterion': 'entropy',\n",
              " 'max_features': 'auto',\n",
              " 'splitter': 'best'}"
            ]
          },
          "metadata": {
            "tags": []
          },
          "execution_count": 35
        }
      ]
    },
    {
      "cell_type": "code",
      "metadata": {
        "colab": {
          "base_uri": "https://localhost:8080/"
        },
        "id": "pgIemJingMzJ",
        "outputId": "a3df54ef-65ca-4191-ae93-3fa9d248d3a3"
      },
      "source": [
        "#we will use Kfold validation to validate the model\n",
        "\n",
        "f1 = np.array([])\n",
        "acc = np.array([])\n",
        "prec = np.array([])\n",
        "recal = np.array([])\n",
        "\n",
        "from sklearn.model_selection import StratifiedKFold\n",
        "skf = StratifiedKFold(n_splits=5,random_state=42,shuffle=True)\n",
        "\n",
        "for train_index,test_index in skf.split(x,y):\n",
        "  x_train,x_test = x.iloc[train_index],x.iloc[test_index]\n",
        "  y_train,y_test = y.iloc[train_index],y.iloc[test_index]\n",
        "  model = DecisionTreeClassifier(random_state=42,criterion='entropy',max_features='auto',splitter='best',class_weight={0: 2474, 1: 350782})\n",
        "  model.fit(x_train,y_train)\n",
        "  pred = model.predict(x_test)\n",
        "  #print('{} iteration for decision tree has \\n f1 score of {} \\n accuracy of {} \\n precision of {} \\n recall of {}'.format(i,f1_score(y_test,pred),accuracy_score(y_test,pred),precision_score(y_test,pred),recall_score(y_test,pred)))\n",
        "  f1 = np.append(f1,f1_score(y_test,pred))\n",
        "  acc = np.append(acc,accuracy_score(y_test,pred))\n",
        "  prec = np.append(prec,precision_score(y_test,pred))\n",
        "  recal = np.append(recal,recall_score(y_test,pred))\n",
        "  #print(f1_score(y_test,pred))\n",
        "print('Mean of  \\n F1 Score is {} \\n Accuracy Score is {} \\n Precision Score is {} \\n Recall Score is {}'.format(np.mean(f1),np.mean(acc),np.mean(prec),np.mean(recal)))"
      ],
      "execution_count": 36,
      "outputs": [
        {
          "output_type": "stream",
          "text": [
            "Mean of  \n",
            " F1 Score is 0.23080804504532915 \n",
            " Accuracy Score is 0.989435423185111 \n",
            " Precision Score is 0.23554679552398977 \n",
            " Recall Score is 0.22634850529587372\n"
          ],
          "name": "stdout"
        }
      ]
    },
    {
      "cell_type": "markdown",
      "metadata": {
        "id": "k_3uaYkOginK"
      },
      "source": [
        "These scores are slightly better than what we had previously"
      ]
    },
    {
      "cell_type": "markdown",
      "metadata": {
        "id": "Uke2TVDzg-EZ"
      },
      "source": [
        "Since our goal is to get rightly target more of those who are going to make purchase, lets try synthetic over sampling of set as well"
      ]
    },
    {
      "cell_type": "code",
      "metadata": {
        "colab": {
          "base_uri": "https://localhost:8080/"
        },
        "id": "n1eT_aO2hJHG",
        "outputId": "587fede2-937b-491a-8b8f-b8ea1a1a22f6"
      },
      "source": [
        "from imblearn.over_sampling import SMOTE\n",
        "oversampler = SMOTE()\n",
        "x,y = oversampler.fit_resample(x,y)\n",
        "\n",
        "#we will use Kfold validation to validate the model\n",
        "\n",
        "from sklearn.metrics import f1_score\n",
        "from sklearn.metrics import accuracy_score\n",
        "from sklearn.metrics import precision_score\n",
        "from sklearn.metrics import recall_score\n",
        "f1 = np.array([])\n",
        "acc = np.array([])\n",
        "prec = np.array([])\n",
        "recal = np.array([])\n",
        "\n",
        "from sklearn.model_selection import StratifiedKFold\n",
        "skf = StratifiedKFold(n_splits=5,random_state=42,shuffle=True)\n",
        "\n",
        "for train_index,test_index in skf.split(x,y):\n",
        "  x_train,x_test = x[train_index],x[test_index]\n",
        "  y_train,y_test = y[train_index],y[test_index]\n",
        "  model = DecisionTreeClassifier(random_state=42,criterion='entropy',max_features='auto',splitter='best',class_weight={0: 2474, 1: 350782}) #with Class Weights\n",
        "  model.fit(x_train,y_train)\n",
        "  pred = model.predict(x_test)\n",
        "  #print('{} iteration for decision tree has \\n f1 score of {} \\n accuracy of {} \\n precision of {} \\n recall of {}'.format(i,f1_score(y_test,pred),accuracy_score(y_test,pred),precision_score(y_test,pred),recall_score(y_test,pred)))\n",
        "  f1 = np.append(f1,f1_score(y_test,pred))\n",
        "  acc = np.append(acc,accuracy_score(y_test,pred))\n",
        "  prec = np.append(prec,precision_score(y_test,pred))\n",
        "  recal = np.append(recal,recall_score(y_test,pred))\n",
        "  #print(f1_score(y_test,pred))\n",
        "print('Mean of  \\n F1 Score is {} \\n Accuracy Score is {} \\n Precision Score is {} \\n Recall Score is {}'.format(np.mean(f1),np.mean(acc),np.mean(prec),np.mean(recal)))"
      ],
      "execution_count": 37,
      "outputs": [
        {
          "output_type": "stream",
          "text": [
            "Mean of  \n",
            " F1 Score is 0.9944351683002861 \n",
            " Accuracy Score is 0.9944352901804345 \n",
            " Precision Score is 0.9944579477982742 \n",
            " Recall Score is 0.9944124844317411\n"
          ],
          "name": "stdout"
        }
      ]
    },
    {
      "cell_type": "code",
      "metadata": {
        "colab": {
          "base_uri": "https://localhost:8080/"
        },
        "id": "5BnjpU_IiLaY",
        "outputId": "55a7f984-de1a-4923-97d3-18e16d1d4476"
      },
      "source": [
        "#we will use Kfold validation to validate the model\n",
        "\n",
        "from sklearn.metrics import f1_score\n",
        "from sklearn.metrics import accuracy_score\n",
        "from sklearn.metrics import precision_score\n",
        "from sklearn.metrics import recall_score\n",
        "f1 = np.array([])\n",
        "acc = np.array([])\n",
        "prec = np.array([])\n",
        "recal = np.array([])\n",
        "\n",
        "from sklearn.model_selection import StratifiedKFold\n",
        "skf = StratifiedKFold(n_splits=5,random_state=42,shuffle=True)\n",
        "\n",
        "for train_index,test_index in skf.split(x,y):\n",
        "  x_train,x_test = x[train_index],x[test_index]\n",
        "  y_train,y_test = y[train_index],y[test_index]\n",
        "  model = DecisionTreeClassifier(random_state=42,criterion='entropy',max_features='auto',splitter='best') #without Class Weights\n",
        "  model.fit(x_train,y_train)\n",
        "  pred = model.predict(x_test)\n",
        "  #print('{} iteration for decision tree has \\n f1 score of {} \\n accuracy of {} \\n precision of {} \\n recall of {}'.format(i,f1_score(y_test,pred),accuracy_score(y_test,pred),precision_score(y_test,pred),recall_score(y_test,pred)))\n",
        "  f1 = np.append(f1,f1_score(y_test,pred))\n",
        "  acc = np.append(acc,accuracy_score(y_test,pred))\n",
        "  prec = np.append(prec,precision_score(y_test,pred))\n",
        "  recal = np.append(recal,recall_score(y_test,pred))\n",
        "  #print(f1_score(y_test,pred))\n",
        "print('Mean of  \\n F1 Score is {} \\n Accuracy Score is {} \\n Precision Score is {} \\n Recall Score is {}'.format(np.mean(f1),np.mean(acc),np.mean(prec),np.mean(recal)))"
      ],
      "execution_count": 38,
      "outputs": [
        {
          "output_type": "stream",
          "text": [
            "Mean of  \n",
            " F1 Score is 0.9943422413333808 \n",
            " Accuracy Score is 0.9943412145581894 \n",
            " Precision Score is 0.9941553598228603 \n",
            " Recall Score is 0.9945293650608791\n"
          ],
          "name": "stdout"
        }
      ]
    },
    {
      "cell_type": "markdown",
      "metadata": {
        "id": "nORZBCPuif_g"
      },
      "source": [
        "***So if we Oversample over minority class, and bring in all the parameters, we tends to get high accuracy, percision and F1 Score. Hence we will create our Decision tree model on oversampled set and using the same parameters***"
      ]
    },
    {
      "cell_type": "code",
      "metadata": {
        "colab": {
          "base_uri": "https://localhost:8080/"
        },
        "id": "PBMlN8ullR3L",
        "outputId": "39745c5c-4ce6-4f7d-fcf7-1dbb7c18cecc"
      },
      "source": [
        "model = DecisionTreeClassifier(random_state=42,criterion='entropy',max_features='auto',splitter='best',class_weight={0: 2474, 1: 350782})\n",
        "model.fit(x,y)"
      ],
      "execution_count": 39,
      "outputs": [
        {
          "output_type": "execute_result",
          "data": {
            "text/plain": [
              "DecisionTreeClassifier(ccp_alpha=0.0, class_weight={0: 2474, 1: 350782},\n",
              "                       criterion='entropy', max_depth=None, max_features='auto',\n",
              "                       max_leaf_nodes=None, min_impurity_decrease=0.0,\n",
              "                       min_impurity_split=None, min_samples_leaf=1,\n",
              "                       min_samples_split=2, min_weight_fraction_leaf=0.0,\n",
              "                       presort='deprecated', random_state=42, splitter='best')"
            ]
          },
          "metadata": {
            "tags": []
          },
          "execution_count": 39
        }
      ]
    },
    {
      "cell_type": "code",
      "metadata": {
        "id": "J7TQvIaJBUnJ"
      },
      "source": [
        "model.predict() #can be used to make prediction of any new customers on site"
      ],
      "execution_count": null,
      "outputs": []
    }
  ]
}